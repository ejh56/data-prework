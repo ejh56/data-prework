{
 "cells": [
  {
   "cell_type": "markdown",
   "metadata": {},
   "source": [
    "<img src=\"https://bit.ly/2VnXWr2\" width=\"100\" align=\"left\"/>"
   ]
  },
  {
   "cell_type": "markdown",
   "metadata": {},
   "source": [
    "# Robin Hood\n",
    "Robin Hood has entered a competition to win the archery contest in Sherwood. With his bow and arrows, he needs to shoot on a target and try to hit as close as possible to the center.\n",
    "\n",
    "![](images/arrows.jpg)\n",
    "\n",
    "## Context\n",
    "In this challenge, the landing position of arrows shot by archers in the competition will be represented using 2-dimensional coordinates. \n",
    "\n",
    "In the 2-dimensional space, a point can be defined by a pair of values that correspond to the horizontal coordinate (x) and the vertical coordinate (y). For example, in our case, an arrow that hits the center of the archery target will land in position (0, 0) on the coordinate axes. \n",
    "\n",
    "The space can be divided into 4 zones (quadrants): Q1, Q2, Q3, Q4. If a point is in Q1, both its x coordinate and y coordinate are positive. Any point with a null x or y coordinate is considered to not belong to any quadrant. \n",
    "\n",
    "If you want to know more about the cartesian coordinate system, you can check this [link](https://en.wikipedia.org/wiki/Cartesian_coordinate_system). \n",
    "\n",
    "## Tools\n",
    "You don't necessarily need to use all the tools. Maybe you opt to use some of them or completely different ones, they are given to help you shape the exercise. Programming exercises can be solved in many different ways.\n",
    "* Data structures: **lists, sets, tuples**\n",
    "* Conditional statements: **if-elif-else**\n",
    "* Loop: **while/for**\n",
    "* Minimum (optional sorting)\n",
    "\n",
    "## Tasks\n",
    "Robin Hood has hit the following points:"
   ]
  },
  {
   "cell_type": "code",
   "execution_count": 2,
   "metadata": {},
   "outputs": [],
   "source": [
    "points = [(4, 5), (-0, 2), (4, 7), (1, -3), (3, -2), (4, 5), (3, 2), (5, 7), (-5, 7), (2, 2), (-4, 5), (0, -2),\n",
    "          (-4, 7), (-1, 3), (-3, 2), (-4, -5), (-3, 2), (5, 7), (5, 7), (2, 2), (9, 9), (-8, -9)]"
   ]
  },
  {
   "cell_type": "markdown",
   "metadata": {},
   "source": [
    "#### 1. Robin Hood is famous for hitting an arrow with another arrow. Find the coordinates of the points where an arrow hits another arrow."
   ]
  },
  {
   "cell_type": "code",
   "execution_count": 3,
   "metadata": {},
   "outputs": [
    {
     "name": "stdout",
     "output_type": "stream",
     "text": [
      "[(4, 5), (5, 7), (2, 2), (-3, 2)]\n"
     ]
    }
   ],
   "source": [
    "overlapping_points = []\n",
    "for i, x in enumerate(points):\n",
    "    for j, y in enumerate(points):\n",
    "        if x == y and i!= j:\n",
    "            if x in overlapping_points:\n",
    "                continue\n",
    "            else:\n",
    "                overlapping_points.append(x)\n",
    "print(overlapping_points)"
   ]
  },
  {
   "cell_type": "markdown",
   "metadata": {},
   "source": [
    "#### 2. Calculate how many arrows have fallen in each quadrant. \n",
    "**Note**: the arrows that fall in the axis (x=0 or y=0) don't belong to any quadrant."
   ]
  },
  {
   "cell_type": "code",
   "execution_count": 6,
   "metadata": {},
   "outputs": [
    {
     "name": "stdout",
     "output_type": "stream",
     "text": [
      "The first quadrant contains 10 points.\n",
      "The second quadrant contains 6 points.\n",
      "The third quadrant contains 2 points.\n",
      "The fourth quadrant contains 2 points.\n"
     ]
    }
   ],
   "source": [
    "first_quad = 0\n",
    "second_quad = 0\n",
    "third_quad = 0\n",
    "fourth_quad = 0\n",
    "for p in points:\n",
    "    if p[0]> 0 and p[1]> 0:\n",
    "        first_quad += 1\n",
    "    elif p[0]> 0 and p[1]< 0:\n",
    "        fourth_quad += 1\n",
    "    elif p[0]< 0 and p[1]> 0:\n",
    "        second_quad += 1\n",
    "    elif p[0]< 0 and p[1]< 0:\n",
    "        third_quad += 1\n",
    "        \n",
    "print(\"The first quadrant contains %s points.\" % first_quad)\n",
    "print(\"The second quadrant contains %s points.\" % second_quad)\n",
    "print(\"The third quadrant contains %s points.\" % third_quad)\n",
    "print(\"The fourth quadrant contains %s points.\" % fourth_quad)"
   ]
  },
  {
   "cell_type": "markdown",
   "metadata": {},
   "source": [
    "#### 3. Find the point closest to the center. Calculate its distance to the center. \n",
    "Take into account that there might be more than one point at the minimum distance to the center.\n",
    "\n",
    "**Hint**: Use the Euclidean distance. You can find more information about it [here](https://en.wikipedia.org/wiki/Euclidean_distance).  \n",
    "**Hint**: Defining a function that calculates the distance to the center can help."
   ]
  },
  {
   "cell_type": "code",
   "execution_count": 7,
   "metadata": {},
   "outputs": [
    {
     "name": "stdout",
     "output_type": "stream",
     "text": [
      "Points [(0, 2), (0, -2)] are 2.0 from the center.\n"
     ]
    }
   ],
   "source": [
    "import math\n",
    "distance_list = []\n",
    "comp_list =[]\n",
    "final_list = []\n",
    "\n",
    "def distance_to_center(x, y):\n",
    "    return math.sqrt((x - 0)**2 + (y - 0)**2)\n",
    "\n",
    "for p in points:\n",
    "    distance_list.append(distance_to_center(p[0], p[1]))\n",
    "    \n",
    "for i, d in enumerate(distance_list):\n",
    "    if d == min(distance_list):\n",
    "        comp_list.append(i)\n",
    "    else: \n",
    "        continue\n",
    "        \n",
    "for index in comp_list:\n",
    "    final_list.append(points[index])\n",
    "\n",
    "# nicely formatted version for 2 points:\n",
    "# print(f\"Points {final_list[0]} and {final_list[1]} are {min(distance_list)} from the center.\")  \n",
    "\n",
    "# generic version:\n",
    "print(f\"Points {final_list} are {min(distance_list)} from the center.\")  \n"
   ]
  },
  {
   "cell_type": "markdown",
   "metadata": {},
   "source": [
    "#### 4. If the archery target has a radius of 9, calculate the number of arrows that won't hit the target. \n",
    "**Hint**: Use the function created in step 3. "
   ]
  },
  {
   "cell_type": "code",
   "execution_count": 8,
   "metadata": {},
   "outputs": [
    {
     "name": "stdout",
     "output_type": "stream",
     "text": [
      "There are 2 arrows that will not hit the target.\n"
     ]
    }
   ],
   "source": [
    "# formula assuming an arrow with a distance of 9 from the center will still hit the target\n",
    "count = 0\n",
    "for x in distance_list:\n",
    "    if x <= 9:\n",
    "        continue\n",
    "    else: \n",
    "        count+=1\n",
    "print(\"There are %s arrows that will not hit the target.\" % count)"
   ]
  }
 ],
 "metadata": {
  "kernelspec": {
   "display_name": "Python 3",
   "language": "python",
   "name": "python3"
  },
  "language_info": {
   "codemirror_mode": {
    "name": "ipython",
    "version": 3
   },
   "file_extension": ".py",
   "mimetype": "text/x-python",
   "name": "python",
   "nbconvert_exporter": "python",
   "pygments_lexer": "ipython3",
   "version": "3.8.1"
  }
 },
 "nbformat": 4,
 "nbformat_minor": 2
}
